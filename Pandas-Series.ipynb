{
 "cells": [
  {
   "cell_type": "code",
   "execution_count": 2,
   "metadata": {
    "collapsed": true
   },
   "outputs": [],
   "source": [
    "import pandas as pd\n",
    "import numpy as np"
   ]
  },
  {
   "cell_type": "markdown",
   "metadata": {},
   "source": [
    "# Series\n",
    "https://pandas.pydata.org/pandas-docs/stable/generated/pandas.Series.html#pandas.Series"
   ]
  },
  {
   "cell_type": "code",
   "execution_count": 3,
   "metadata": {},
   "outputs": [
    {
     "name": "stdout",
     "output_type": "stream",
     "text": [
      "0          Java\n",
      "1        Python\n",
      "2    JavaScript\n",
      "dtype: object\n"
     ]
    }
   ],
   "source": [
    "l = [\"Java\", \"Python\", \"JavaScript\"]\n",
    "s = pd.Series(l)\n",
    "print(s)"
   ]
  },
  {
   "cell_type": "code",
   "execution_count": 4,
   "metadata": {},
   "outputs": [
    {
     "name": "stdout",
     "output_type": "stream",
     "text": [
      "lang1          Java\n",
      "lang2        Python\n",
      "lang3    JavaScript\n",
      "dtype: object\n"
     ]
    }
   ],
   "source": [
    "l = [\"Java\", \"Python\", \"JavaScript\"]\n",
    "s = pd.Series(l, index=[\"lang1\", \"lang2\", \"lang3\"])\n",
    "print(s)"
   ]
  },
  {
   "cell_type": "code",
   "execution_count": 29,
   "metadata": {
    "scrolled": true
   },
   "outputs": [
    {
     "name": "stdout",
     "output_type": "stream",
     "text": [
      "age            27\n",
      "job     Developer\n",
      "name          Mac\n",
      "dtype: object\n"
     ]
    }
   ],
   "source": [
    "d = {\n",
    "    \"name\" : \"Mac\",\n",
    "    \"age\" : 27,\n",
    "    \"job\" : \"Developer\"\n",
    "}\n",
    "s = pd.Series(d)\n",
    "print(s)"
   ]
  },
  {
   "cell_type": "code",
   "execution_count": 25,
   "metadata": {},
   "outputs": [
    {
     "name": "stdout",
     "output_type": "stream",
     "text": [
      "27\n"
     ]
    }
   ],
   "source": [
    "print(s[0])"
   ]
  },
  {
   "cell_type": "code",
   "execution_count": 26,
   "metadata": {},
   "outputs": [
    {
     "name": "stdout",
     "output_type": "stream",
     "text": [
      "Developer\n"
     ]
    }
   ],
   "source": [
    "print(s['job'])"
   ]
  },
  {
   "cell_type": "code",
   "execution_count": 27,
   "metadata": {},
   "outputs": [
    {
     "name": "stdout",
     "output_type": "stream",
     "text": [
      "name    Mac\n",
      "age      27\n",
      "dtype: object\n"
     ]
    }
   ],
   "source": [
    "print(s[['name', 'age']])"
   ]
  },
  {
   "cell_type": "code",
   "execution_count": 28,
   "metadata": {},
   "outputs": [
    {
     "name": "stdout",
     "output_type": "stream",
     "text": [
      "name    Mac\n",
      "age      27\n",
      "dtype: object\n"
     ]
    }
   ],
   "source": [
    "print(s.loc[['name', 'age']])"
   ]
  }
 ],
 "metadata": {
  "kernelspec": {
   "display_name": "Python 3",
   "language": "python",
   "name": "python3"
  },
  "language_info": {
   "codemirror_mode": {
    "name": "ipython",
    "version": 3
   },
   "file_extension": ".py",
   "mimetype": "text/x-python",
   "name": "python",
   "nbconvert_exporter": "python",
   "pygments_lexer": "ipython3",
   "version": "3.6.1"
  }
 },
 "nbformat": 4,
 "nbformat_minor": 2
}
