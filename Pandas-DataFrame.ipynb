{
 "cells": [
  {
   "cell_type": "markdown",
   "metadata": {},
   "source": [
    "# DataFrame\n",
    "https://pandas.pydata.org/pandas-docs/stable/api.html#dataframe"
   ]
  },
  {
   "cell_type": "code",
   "execution_count": 2,
   "metadata": {
    "collapsed": true
   },
   "outputs": [],
   "source": [
    "import pandas as pd\n",
    "import numpy as np"
   ]
  },
  {
   "cell_type": "code",
   "execution_count": 3,
   "metadata": {},
   "outputs": [
    {
     "name": "stdout",
     "output_type": "stream",
     "text": [
      "            0\n",
      "0        Java\n",
      "1      Python\n",
      "2  JavaScript\n",
      "3        Ruby\n",
      "4          Go\n"
     ]
    }
   ],
   "source": [
    "l = [\"Java\", \"Python\", \"JavaScript\", \"Ruby\", \"Go\"]\n",
    "df = pd.DataFrame(l)\n",
    "print(df)"
   ]
  },
  {
   "cell_type": "code",
   "execution_count": 4,
   "metadata": {},
   "outputs": [
    {
     "name": "stdout",
     "output_type": "stream",
     "text": [
      "                0\n",
      "lang1        Java\n",
      "lang2      Python\n",
      "lang3  JavaScript\n",
      "lang4        Ruby\n",
      "lang5          Go\n"
     ]
    }
   ],
   "source": [
    "l = [\"Java\", \"Python\", \"JavaScript\", \"Ruby\", \"Go\"]\n",
    "df = pd.DataFrame(l, index=['lang1', 'lang2', 'lang3', 'lang4', 'lang5'])\n",
    "print(df)"
   ]
  },
  {
   "cell_type": "code",
   "execution_count": 5,
   "metadata": {},
   "outputs": [
    {
     "name": "stdout",
     "output_type": "stream",
     "text": [
      "        age         job  marriage\n",
      "name                             \n",
      "Alice    28       Nurse      True\n",
      "Bob      32  Programmer      True\n",
      "Cole     38      Police     False\n",
      "Donald   44      Doctor      True\n",
      "Eric     51    Engineer     False\n"
     ]
    }
   ],
   "source": [
    "d = {\n",
    "    \"name\" : [\"Alice\", \"Bob\", \"Cole\", \"Donald\", \"Eric\"],\n",
    "    \"age\" : [28, 32, 38, 44, 51],\n",
    "    \"job\" : [\"Nurse\", \"Programmer\", \"Police\", \"Doctor\", \"Engineer\"],\n",
    "    \"marriage\" : [True, True, False, True, False]\n",
    "}\n",
    "df = pd.DataFrame(d)\n",
    "df = df.set_index('name')\n",
    "print(df)"
   ]
  },
  {
   "cell_type": "code",
   "execution_count": 10,
   "metadata": {},
   "outputs": [
    {
     "name": "stdout",
     "output_type": "stream",
     "text": [
      "name\n",
      "Alice     28\n",
      "Bob       32\n",
      "Cole      38\n",
      "Donald    44\n",
      "Eric      51\n",
      "Name: age, dtype: int64\n"
     ]
    }
   ],
   "source": [
    "print(df['age'])"
   ]
  },
  {
   "cell_type": "code",
   "execution_count": 11,
   "metadata": {},
   "outputs": [
    {
     "name": "stdout",
     "output_type": "stream",
     "text": [
      "        age  marriage\n",
      "name                 \n",
      "Alice    28      True\n",
      "Bob      32      True\n",
      "Cole     38     False\n",
      "Donald   44      True\n",
      "Eric     51     False\n"
     ]
    }
   ],
   "source": [
    "print(df[['age', 'marriage']])"
   ]
  },
  {
   "cell_type": "code",
   "execution_count": 12,
   "metadata": {},
   "outputs": [
    {
     "name": "stdout",
     "output_type": "stream",
     "text": [
      "age            28\n",
      "job         Nurse\n",
      "marriage     True\n",
      "Name: Alice, dtype: object\n"
     ]
    }
   ],
   "source": [
    "print(df.loc['Alice'])"
   ]
  },
  {
   "cell_type": "code",
   "execution_count": 13,
   "metadata": {},
   "outputs": [
    {
     "name": "stdout",
     "output_type": "stream",
     "text": [
      "       age     job  marriage\n",
      "name                        \n",
      "Alice   28   Nurse      True\n",
      "Cole    38  Police     False\n"
     ]
    }
   ],
   "source": [
    "print(df.loc[['Alice', 'Cole']])"
   ]
  },
  {
   "cell_type": "code",
   "execution_count": 14,
   "metadata": {},
   "outputs": [
    {
     "name": "stdout",
     "output_type": "stream",
     "text": [
      "name\n",
      "Alice    28\n",
      "Cole     38\n",
      "Name: age, dtype: int64\n"
     ]
    }
   ],
   "source": [
    "print(df.loc[['Alice', 'Cole']]['age'])"
   ]
  },
  {
   "cell_type": "code",
   "execution_count": 21,
   "metadata": {},
   "outputs": [
    {
     "name": "stdout",
     "output_type": "stream",
     "text": [
      "name\n",
      "Alice     False\n",
      "Bob       False\n",
      "Cole      False\n",
      "Donald     True\n",
      "Eric       True\n",
      "Name: age, dtype: bool\n"
     ]
    }
   ],
   "source": [
    "print(df['age'] > 40)"
   ]
  },
  {
   "cell_type": "code",
   "execution_count": 22,
   "metadata": {},
   "outputs": [
    {
     "name": "stdout",
     "output_type": "stream",
     "text": [
      "        age       job  marriage\n",
      "name                           \n",
      "Donald   44    Doctor      True\n",
      "Eric     51  Engineer     False\n"
     ]
    }
   ],
   "source": [
    "print(df[df['age'] > 40])"
   ]
  },
  {
   "cell_type": "code",
   "execution_count": 26,
   "metadata": {
    "scrolled": true
   },
   "outputs": [
    {
     "name": "stdout",
     "output_type": "stream",
     "text": [
      "name\n",
      "Donald      Doctor\n",
      "Eric      Engineer\n",
      "Name: job, dtype: object\n"
     ]
    }
   ],
   "source": [
    "print(df[df['age'] > 40]['job'])"
   ]
  },
  {
   "cell_type": "code",
   "execution_count": 25,
   "metadata": {},
   "outputs": [
    {
     "name": "stdout",
     "output_type": "stream",
     "text": [
      "name\n",
      "Donald      Doctor\n",
      "Eric      Engineer\n",
      "Name: job, dtype: object\n"
     ]
    }
   ],
   "source": [
    "print(df['job'][df['age'] > 40])"
   ]
  },
  {
   "cell_type": "code",
   "execution_count": 28,
   "metadata": {},
   "outputs": [
    {
     "name": "stdout",
     "output_type": "stream",
     "text": [
      "        age     job  marriage\n",
      "name                         \n",
      "Cole     38  Police     False\n",
      "Donald   44  Doctor      True\n"
     ]
    }
   ],
   "source": [
    "print(df[2:4])"
   ]
  },
  {
   "cell_type": "code",
   "execution_count": null,
   "metadata": {
    "collapsed": true
   },
   "outputs": [],
   "source": []
  }
 ],
 "metadata": {
  "kernelspec": {
   "display_name": "Python 3",
   "language": "python",
   "name": "python3"
  },
  "language_info": {
   "codemirror_mode": {
    "name": "ipython",
    "version": 3
   },
   "file_extension": ".py",
   "mimetype": "text/x-python",
   "name": "python",
   "nbconvert_exporter": "python",
   "pygments_lexer": "ipython3",
   "version": "3.6.1"
  }
 },
 "nbformat": 4,
 "nbformat_minor": 2
}
